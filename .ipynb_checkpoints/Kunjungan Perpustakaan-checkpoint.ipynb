{
 "cells": [
  {
   "cell_type": "code",
   "execution_count": 61,
   "id": "fcc95b23-6711-4089-b1b3-b686aa0c0da4",
   "metadata": {},
   "outputs": [
    {
     "name": "stdout",
     "output_type": "stream",
     "text": [
      "5 Data Pertama:\n",
      "        NIM Gender  Usia             Fakultas  Angkatan     Jenis Buku  \\\n",
      "0  20001562      L    24                  FEB      2020        Lainnya   \n",
      "1  20001305      P    18                  FEB      2022      Text Book   \n",
      "2  20001132      L    22  Fakultas Kedokteran      2019          Fiksi   \n",
      "3  20001078      L    20      Fakultas Teknik      2022          Fiksi   \n",
      "4  20001540      L    19                  FEB      2019  Jurnal Ilmiah   \n",
      "\n",
      "   Jumlah Dipinjam  lamaMeminjam Status Pengembalian  Denda  \n",
      "0                3             6         Tepat Waktu      0  \n",
      "1                1             5         Tepat Waktu      0  \n",
      "2                3             1         Tepat Waktu      0  \n",
      "3                4             1         Tepat Waktu      0  \n",
      "4                2             7         Tepat Waktu      0  \n",
      "_________________________________________________________________________________\n",
      "Usia Mahasiswa Termuda   : 18 tahun\n",
      "Usia Mahasiswa Tertua    : 24 tahun\n",
      "Jumlah Mahasiswa Laki-laki : 473 orang\n",
      "Jumlah Mahasiswa Perempuan : 527 orang\n",
      "Rata-rata Jumlah Buku Dipinjam : 2.48\n",
      "Rata-rata Denda           : Rp 321.00\n",
      "Persentase Keterlambatan  : 21.4%\n"
     ]
    }
   ],
   "source": [
    "import numpy as np\n",
    "import pandas as pd\n",
    "\n",
    "#n = data sample\n",
    "n = 1000\n",
    "\n",
    "nim = np.random.randint(20001000, 20002000, size = n)\n",
    "gender = np.random.choice(['L','P'], size = n)\n",
    "usia = np.random.randint(18, 25, size = n)\n",
    "fakultas = np.random.choice([\"FEB\", \"Fakultas Teknik\", \"Fakultas Kedokteran\"], n)\n",
    "angkatan = np.random.randint(2019, 2024, size = n)\n",
    "jenisBuku = np.random.choice([\"Fiksi\", \"Text Book\", \"Jurnal Ilmiah\", \"Lainnya\"],  n)\n",
    "jumlahDipinjam = np.random.randint(1, 5, size = n)\n",
    "lamaMeminjam = np.random.randint(1, 10, size = n)\n",
    "\n",
    "statusPengembalian = np.where(lamaMeminjam > 7, 'Telat', 'Tepat Waktu')\n",
    "\n",
    "denda = np.where(\n",
    "    lamaMeminjam > 7,\n",
    "    (lamaMeminjam - 7) * 1000,\n",
    "    0\n",
    ")\n",
    "\n",
    "df = pd.DataFrame({\n",
    "    'NIM' : nim,\n",
    "    'Gender' : gender,\n",
    "    'Usia' : usia,\n",
    "    'Fakultas' : fakultas,\n",
    "    'Angkatan' : angkatan,\n",
    "    'Jenis Buku' : jenisBuku,\n",
    "    'Jumlah Dipinjam' : jumlahDipinjam,\n",
    "    'lamaMeminjam' : lamaMeminjam,\n",
    "    'Status Pengembalian' : statusPengembalian,\n",
    "    'Denda' : denda\n",
    "})\n",
    "    \n",
    "df['Denda'] = np.where(df['Status Pengembalian'] == 'Telat', (df['lamaMeminjam']-7) * 1000, 0)\n",
    "df['Denda'] = df['Denda'].clip(lower=0)\n",
    "\n",
    "print(\"5 Data Pertama:\")\n",
    "print(df.head())\n",
    "df.to_csv('Kunjungan Perpustakaan', index = False)\n",
    "\n",
    "print(\"_________________________________________________________________________________\")\n",
    "jumlahL = df[df['Gender'] == 'L']\n",
    "jumlahP = df[df['Gender'] == 'P']\n",
    "\n",
    "print(f\"Usia Mahasiswa Termuda   : {df['Usia'].min()} tahun\")\n",
    "print(f\"Usia Mahasiswa Tertua    : {df['Usia'].max()} tahun\")\n",
    "print(f\"Jumlah Mahasiswa Laki-laki : {len(jumlahL)} orang\")\n",
    "print(f\"Jumlah Mahasiswa Perempuan : {len(jumlahP)} orang\")\n",
    "print(f\"Rata-rata Jumlah Buku Dipinjam : {df['Jumlah Dipinjam'].mean():.2f}\")\n",
    "print(f\"Rata-rata Denda           : Rp {df['Denda'].mean():.2f}\")\n",
    "print(f\"Persentase Keterlambatan  : {df['Status Pengembalian'].value_counts(normalize=True)['Telat']*100:.1f}%\")"
   ]
  },
  {
   "cell_type": "code",
   "execution_count": null,
   "id": "c1292484-ace3-438f-a647-b74d698461f1",
   "metadata": {},
   "outputs": [],
   "source": []
  }
 ],
 "metadata": {
  "kernelspec": {
   "display_name": "Python 3 (ipykernel)",
   "language": "python",
   "name": "python3"
  },
  "language_info": {
   "codemirror_mode": {
    "name": "ipython",
    "version": 3
   },
   "file_extension": ".py",
   "mimetype": "text/x-python",
   "name": "python",
   "nbconvert_exporter": "python",
   "pygments_lexer": "ipython3",
   "version": "3.12.7"
  }
 },
 "nbformat": 4,
 "nbformat_minor": 5
}
