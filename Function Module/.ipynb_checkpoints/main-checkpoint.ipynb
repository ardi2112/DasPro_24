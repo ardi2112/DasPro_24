{
 "cells": [
  {
   "cell_type": "code",
   "execution_count": 2,
   "id": "7ccf827f-2fbb-4230-886d-bc70f3ba7839",
   "metadata": {},
   "outputs": [
    {
     "name": "stdout",
     "output_type": "stream",
     "text": [
      "\n",
      "    1. Mathematic\n",
      "    2. Convert\n",
      "    3. Change Number\n",
      "    4. Exit\n",
      "    \n"
     ]
    },
    {
     "name": "stdin",
     "output_type": "stream",
     "text": [
      "Isikan Pilihan : 1\n"
     ]
    },
    {
     "name": "stdout",
     "output_type": "stream",
     "text": [
      "\n",
      "    1. Pertambahan\n",
      "    2. Perpangkatan\n",
      "    3. Perkalian\n",
      "    \n"
     ]
    },
    {
     "name": "stdin",
     "output_type": "stream",
     "text": [
      "Pilih Operasi yang diinginkan:  1\n",
      "Masukkan bilangan 1:  21\n",
      "Masukkan bilangan 2:  21\n"
     ]
    },
    {
     "name": "stdout",
     "output_type": "stream",
     "text": [
      "Hasil penjumlahan adalah: 42\n",
      "\n",
      "    1. Mathematic\n",
      "    2. Convert\n",
      "    3. Change Number\n",
      "    4. Exit\n",
      "    \n"
     ]
    },
    {
     "name": "stdin",
     "output_type": "stream",
     "text": [
      "Isikan Pilihan : 4\n"
     ]
    },
    {
     "name": "stdout",
     "output_type": "stream",
     "text": [
      "Thank You!\n"
     ]
    }
   ],
   "source": [
    "import Convert.convert as cv\n",
    "import Mathematic.math as mtk\n",
    "import Change.change as ch\n",
    "\n",
    "def menuUtama():\n",
    "    print(\"\"\"\n",
    "    1. Mathematic\n",
    "    2. Convert\n",
    "    3. Change Number\n",
    "    4. Exit\n",
    "    \"\"\")\n",
    "\n",
    "def menuMath():\n",
    "    print(\"\"\"\n",
    "    1. Pertambahan\n",
    "    2. Perpangkatan\n",
    "    3. Perkalian\n",
    "    \"\"\")\n",
    "\n",
    "def menuConvert():\n",
    "    print(\"\"\"\n",
    "    1. Cm to Meter\n",
    "    2. Meter to Cm\n",
    "    \"\"\")\n",
    "\n",
    "\n",
    "def menuChange():\n",
    "    print(\"\"\"\n",
    "    1. Desimal to Biner\n",
    "    2. Desimal to Oktal\n",
    "    3. Desimal to Hexadesimal\n",
    "    \"\"\")\n",
    "\n",
    "while True:\n",
    "    menuUtama()\n",
    "    pilihMenu = int(input(\"Isikan Pilihan :\"))\n",
    "    if pilihMenu == 1:\n",
    "        menuMath()\n",
    "        math = int(input(\"Pilih Operasi yang diinginkan: \"))\n",
    "        if math == 1:\n",
    "            num1 = int(input(\"Masukkan bilangan 1: \"))\n",
    "            num2 = int(input(\"Masukkan bilangan 2: \"))\n",
    "            hasil = mtk.addNumber(num1, num2)\n",
    "            print(f\"Hasil penjumlahan adalah: {hasil}\")\n",
    "        elif math == 2:\n",
    "            num1 = int(input(\"Masukkan basis: \"))\n",
    "            num2 = int(input(\"Masukkan pangkat: \"))\n",
    "            hasil = mtk.powNumber(num1, num2)\n",
    "            print(f\"Hasil pangkat adalah: {hasil}\")\n",
    "\n",
    "        elif math == 3:\n",
    "            num1 = int(input(\"Masukkan bilangan 1: \"))\n",
    "            num2 = int(input(\"Masukkan bilangan 2: \"))\n",
    "            hasil = mtk.mulNumber (num1, num2)\n",
    "            print(f\"Hasil perkalian adalah: {hasil}\")\n",
    "            \n",
    "    elif pilihMenu == 2:\n",
    "        menuConvert()\n",
    "        convert = int(input(\"Pilih Operasi Yang Di Inginkan : \"))\n",
    "        if convert == 1:\n",
    "            cm = int(input(\"Masukkan Panjang (dalam Cm) :\"))\n",
    "            hasil = cv.cmToMeter(cm)\n",
    "            print(f\"Hasil Convert Cm ke Meter dari {cm} adalah {hasil}\")\n",
    "        elif convert == 2:\n",
    "            meter = int(input(\"Masukkan Panjang (dalam Meter) : \"))\n",
    "            hasil = cv.meterToCm(meter)\n",
    "            print(f\"Hasil Convert Meter ke Cm dari {meter} adalah {hasil}\")\n",
    "        \n",
    "    if pilihMenu == 3:\n",
    "        menuChange()\n",
    "        change = int(input(\"Pilih perubahan yang diinginkan: \"))\n",
    "        if change == 1:\n",
    "            num = int(input(\"Masukkan bilangan: \"))\n",
    "            hasil = ch.dec_to_bin(num)\n",
    "            print(f\"Bilangan berubah menjadi: {hasil}\")\n",
    "        elif change == 2:\n",
    "            num = int(input(\"Masukkan bilangan: \"))\n",
    "            hasil = ch.dec_to_oct(num)\n",
    "            print(f\"Bilangan berubah menjadi: {hasil}\")\n",
    "        elif change == 3:\n",
    "            num = int(input(\"Masukkan bilangan: \"))\n",
    "            hasil = ch.dec_to_hex(num)\n",
    "            print(f\"Bilangan berubah menjadi: {hasil}\")\n",
    "\n",
    "    elif pilihMenu == 4:\n",
    "        print(\"Thank You!\")\n",
    "        break"
   ]
  },
  {
   "cell_type": "code",
   "execution_count": null,
   "id": "ea84fb62-99b2-43bc-b036-0780a0981a15",
   "metadata": {},
   "outputs": [],
   "source": []
  }
 ],
 "metadata": {
  "kernelspec": {
   "display_name": "Python 3 (ipykernel)",
   "language": "python",
   "name": "python3"
  },
  "language_info": {
   "codemirror_mode": {
    "name": "ipython",
    "version": 3
   },
   "file_extension": ".py",
   "mimetype": "text/x-python",
   "name": "python",
   "nbconvert_exporter": "python",
   "pygments_lexer": "ipython3",
   "version": "3.12.7"
  }
 },
 "nbformat": 4,
 "nbformat_minor": 5
}
