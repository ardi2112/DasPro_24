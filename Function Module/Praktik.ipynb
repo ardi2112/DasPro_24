{
 "cells": [
  {
   "cell_type": "code",
   "execution_count": 17,
   "id": "6f9a22fd-9a6b-466b-8c5d-2155b0f31447",
   "metadata": {},
   "outputs": [
    {
     "name": "stdout",
     "output_type": "stream",
     "text": [
      "\n",
      "    1. Convert\n",
      "    2. Mathematic\n",
      "    3. Exit\n",
      "    \n"
     ]
    },
    {
     "name": "stdin",
     "output_type": "stream",
     "text": [
      "Isikan Pilihan : 2\n"
     ]
    },
    {
     "name": "stdout",
     "output_type": "stream",
     "text": [
      "\n",
      "    1. Perpangkatan\n",
      "    2. Pertambahan\n",
      "    3. Pengurangan\n",
      "    4. Perkalian\n",
      "    5. Pembagian\n",
      "    \n"
     ]
    },
    {
     "name": "stdin",
     "output_type": "stream",
     "text": [
      "Pilih Operasi yang diinginkan:  3\n",
      "Masukkan bilangan 1:  3\n",
      "Masukkan bilangan 2:  2\n"
     ]
    },
    {
     "name": "stdout",
     "output_type": "stream",
     "text": [
      "Hasil kurang adalah: 1\n",
      "\n",
      "    1. Convert\n",
      "    2. Mathematic\n",
      "    3. Exit\n",
      "    \n"
     ]
    },
    {
     "name": "stdin",
     "output_type": "stream",
     "text": [
      "Isikan Pilihan : 2\n"
     ]
    },
    {
     "name": "stdout",
     "output_type": "stream",
     "text": [
      "\n",
      "    1. Perpangkatan\n",
      "    2. Pertambahan\n",
      "    3. Pengurangan\n",
      "    4. Perkalian\n",
      "    5. Pembagian\n",
      "    \n"
     ]
    },
    {
     "name": "stdin",
     "output_type": "stream",
     "text": [
      "Pilih Operasi yang diinginkan:  4\n",
      "Masukkan bilangan 1:  2\n",
      "Masukkan bilangan 2:  3\n"
     ]
    },
    {
     "name": "stdout",
     "output_type": "stream",
     "text": [
      "Hasil kali adalah: 6\n",
      "\n",
      "    1. Convert\n",
      "    2. Mathematic\n",
      "    3. Exit\n",
      "    \n"
     ]
    },
    {
     "name": "stdin",
     "output_type": "stream",
     "text": [
      "Isikan Pilihan : 2\n"
     ]
    },
    {
     "name": "stdout",
     "output_type": "stream",
     "text": [
      "\n",
      "    1. Perpangkatan\n",
      "    2. Pertambahan\n",
      "    3. Pengurangan\n",
      "    4. Perkalian\n",
      "    5. Pembagian\n",
      "    \n"
     ]
    },
    {
     "name": "stdin",
     "output_type": "stream",
     "text": [
      "Pilih Operasi yang diinginkan:  5\n",
      "Masukkan bilangan 1:  30\n",
      "Masukkan bilangan 2:  5\n"
     ]
    },
    {
     "name": "stdout",
     "output_type": "stream",
     "text": [
      "Hasil bagi adalah: 6.0\n",
      "\n",
      "    1. Convert\n",
      "    2. Mathematic\n",
      "    3. Exit\n",
      "    \n"
     ]
    },
    {
     "name": "stdin",
     "output_type": "stream",
     "text": [
      "Isikan Pilihan : 3\n"
     ]
    },
    {
     "name": "stdout",
     "output_type": "stream",
     "text": [
      "Thank You!\n"
     ]
    }
   ],
   "source": [
    "### import Convert.convert as cv\n",
    "import Mathematic.math as mtk\n",
    "\n",
    "def menuUtama():\n",
    "    print(\"\"\"\n",
    "    1. Convert\n",
    "    2. Mathematic\n",
    "    3. Exit\n",
    "    \"\"\")\n",
    "\n",
    "def menuConvert():\n",
    "    print(\"\"\"\n",
    "    1. Cm to Meter\n",
    "    2. Meter to Cm\n",
    "    \"\"\")\n",
    "\n",
    "def menuMath():\n",
    "    print(\"\"\"\n",
    "    1. Perpangkatan\n",
    "    2. Pertambahan\n",
    "    3. Pengurangan\n",
    "    4. Perkalian\n",
    "    5. Pembagian\n",
    "    \"\"\")\n",
    "\n",
    "while True:\n",
    "    menuUtama()\n",
    "    pilihMenu = int(input(\"Isikan Pilihan :\"))\n",
    "    if pilihMenu == 1:\n",
    "        menuConvert()\n",
    "        convert = int(input(\"Pilih Operasi Yang Di Inginkan : \"))\n",
    "        if convert == 1:\n",
    "            cm = int(input(\"Masukkan Panjang (dalam Cm) :\"))\n",
    "            hasil = cv.cmToMeter(cm)\n",
    "            print(f\"Hasil Convert Cm ke Meter dari {cm} adalah {hasil}\")\n",
    "            \n",
    "\n",
    "        elif convert == 2:\n",
    "            meter = int(input(\"Masukkan Panjang (dalam Meter) : \"))\n",
    "            hasil = cv.meterToCm(meter)\n",
    "            print(f\"Hasil Convert Meter ke Cm dari {meter} adalah {hasil}\")\n",
    "        \n",
    "    elif pilihMenu == 2:\n",
    "        menuMath()\n",
    "        math = int(input(\"Pilih Operasi yang diinginkan: \"))\n",
    "        if math == 1:\n",
    "            num1 = int(input(\"Masukkan basis: \"))\n",
    "            num2 = int(innumput(\"Masukkan pangkat: \"))\n",
    "            hasil = mtk.powNumber(num1, num2)\n",
    "            print(f\"Hasil pangkat adalah: {hasil}\")\n",
    "        elif math == 2:\n",
    "            num1 = int(input(\"Masukkan bilangan 1: \"))\n",
    "            num2 = int(input(\"Masukkan bilangan 2: \"))\n",
    "            hasil = mtk.addNumber(num1, num2)\n",
    "            print(f\"Hasil tambah adalah: {hasil}\")\n",
    "        elif math == 3:\n",
    "            num1 = int(input(\"Masukkan bilangan 1: \"))\n",
    "            num2 = int(input(\"Masukkan bilangan 2: \"))\n",
    "            hasil = mtk.subNumber(num1, num2)\n",
    "            print(f\"Hasil kurang adalah: {hasil}\")\n",
    "        elif math == 4:\n",
    "            num1 = int(input(\"Masukkan bilangan 1: \"))\n",
    "            num2 = int(input(\"Masukkan bilangan 2: \"))\n",
    "            hasil = mtk.mulNumber (num1, num2)\n",
    "            print(f\"Hasil kali adalah: {hasil}\")\n",
    "        elif math == 5:\n",
    "            num1 = int(input(\"Masukkan bilangan 1: \"))\n",
    "            num2 = int(input(\"Masukkan bilangan 2: \"))\n",
    "            hasil = mtk.divNumber (num1, num2)\n",
    "            print(f\"Hasil bagi adalah: {hasil}\")\n",
    "\n",
    "    elif pilihMenu == 3:\n",
    "        print(\"Thank You!\")\n",
    "        break"
   ]
  }
 ],
 "metadata": {
  "kernelspec": {
   "display_name": "Python 3 (ipykernel)",
   "language": "python",
   "name": "python3"
  },
  "language_info": {
   "codemirror_mode": {
    "name": "ipython",
    "version": 3
   },
   "file_extension": ".py",
   "mimetype": "text/x-python",
   "name": "python",
   "nbconvert_exporter": "python",
   "pygments_lexer": "ipython3",
   "version": "3.12.7"
  }
 },
 "nbformat": 4,
 "nbformat_minor": 5
}
