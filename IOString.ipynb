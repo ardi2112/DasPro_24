{
 "cells": [
  {
   "cell_type": "markdown",
   "id": "b8bc87f5-6316-4876-befa-6adf54d2c168",
   "metadata": {},
   "source": [
    "<h1>Biodata Sederhana<h1>"
   ]
  },
  {
   "cell_type": "code",
   "execution_count": 3,
   "id": "11dc6d33-35b7-4ded-83da-2e9e362575da",
   "metadata": {},
   "outputs": [
    {
     "name": "stdout",
     "output_type": "stream",
     "text": [
      "Biodata Sederhana\n"
     ]
    },
    {
     "name": "stdin",
     "output_type": "stream",
     "text": [
      "Masukkan nama lengkap Anda:  sasa\n",
      "Masukkan umur Anda:  19\n",
      "Masukkan alamat Anda:  bm\n",
      "Masukkan jurusan Anda:  ti\n",
      "Masukkan hobi Anda:  baca buku\n"
     ]
    },
    {
     "name": "stdout",
     "output_type": "stream",
     "text": [
      "\n",
      "Biodata Anda\n",
      "Nama    : sasa\n",
      "Umur    : 19 tahun\n",
      "Alamat  : bm\n",
      "Jurusan : ti\n",
      "Hobi    : baca buku\n",
      "\n",
      "== Biodata Anda (dengan f-string) ==\n",
      "Nama    : sasa\n",
      "Umur    : 19 tahun\n",
      "Alamat  : bm\n",
      "Jurusan : ti\n",
      "Hobi    : baca buku\n",
      "\n",
      "== Biodata Anda (dengan format key) ==\n",
      "Nama: sasa\n",
      "Umur: 19 tahun\n",
      "Alamat: bm\n",
      "Jurusan: ti\n",
      "Hobi: baca buku\n"
     ]
    }
   ],
   "source": [
    "print(\"Biodata Sederhana\")\n",
    "nama = input(\"Masukkan nama lengkap Anda: \")\n",
    "umur = input(\"Masukkan umur Anda: \")\n",
    "alamat = input(\"Masukkan alamat Anda: \")\n",
    "jurusan = input(\"Masukkan jurusan Anda: \")\n",
    "hobi = input(\"Masukkan hobi Anda: \")\n",
    "\n",
    "#Menggunakan format() untuk menampilkan output\n",
    "print(\"\\nBiodata Anda\")\n",
    "print(\"Nama    : {}\".format(nama))\n",
    "print(\"Umur    : {} tahun\".format(umur))\n",
    "print(\"Alamat  : {}\".format(alamat))\n",
    "print(\"Jurusan : {}\".format(jurusan))\n",
    "print(\"Hobi    : {}\".format(hobi))\n",
    "\n",
    "#Menggunakan f-string (alternatif)\n",
    "print(\"\\n== Biodata Anda (dengan f-string) ==\")\n",
    "print(f\"Nama    : {nama}\")\n",
    "print(f\"Umur    : {umur} tahun\")\n",
    "print(f\"Alamat  : {alamat}\")\n",
    "print(f\"Jurusan : {jurusan}\")\n",
    "print(f\"Hobi    : {hobi}\")\n",
    "\n",
    "#Menggunakan format() dengan key\n",
    "print(\"\\n== Biodata Anda (dengan format key) ==\")\n",
    "print(\"Nama: {nama}\\nUmur: {umur} tahun\\nAlamat: {alamat}\\nJurusan: {jurusan}\\nHobi: {hobi}\".format(\n",
    "    nama=nama, umur=umur, alamat=alamat, jurusan=jurusan, hobi=hobi))"
   ]
  },
  {
   "cell_type": "markdown",
   "id": "0ed5a81d-5c14-4ce1-9c33-0b7eb00f6511",
   "metadata": {},
   "source": [
    "<h1>Universitas Nusa Putra<h1>"
   ]
  },
  {
   "cell_type": "code",
   "execution_count": 6,
   "id": "a4615c91-b4ab-43f8-bd84-339f48ec93fa",
   "metadata": {},
   "outputs": [
    {
     "name": "stdout",
     "output_type": "stream",
     "text": [
      "Kalimat awal: UNIVERSITAS NUSA PUTRA SUKABUMI\n",
      "Setelah kata diambil: putra nusa\n",
      "Setelah dihapus huruf U pada kalimat: NIVERSITAS NSA PTRA SKABMI\n",
      "Kalimat setelah dibalikan: SUKABUMI PUTRA NUSA UNIVERSITAS\n",
      "Huruf pertama dari setiap kata: UNPS\n",
      "Mengambil beberapa huruf: TAS SAPU BUMI\n"
     ]
    }
   ],
   "source": [
    "kalimat = \"UNIVERSITAS NUSA PUTRA SUKABUMI\"\n",
    "print(\"Kalimat awal:\", kalimat)\n",
    "\n",
    "# Mengambil kata \"PUTRA\" dan \"NUSA\", kemudian menggabungkannya dan mengubah ke huruf kecil\n",
    "putra = kalimat.split()[2]\n",
    "nusa = kalimat.split()[1]\n",
    "hasilA = (putra + \" \" + nusa).lower()\n",
    "print(\"Setelah kata diambil:\", hasilA)\n",
    "\n",
    "# Menghapus huruf U pada UNIVERSITAS NUSA PUTRA SUKABUMI\n",
    "universitas = kalimat.split()[0]\n",
    "nusa = kalimat.split()[1]\n",
    "putra = kalimat.split()[2]\n",
    "sukabumi = kalimat.split()[3]\n",
    "\n",
    "hasilB = universitas.replace(\"U\", \"\") + \" \" + nusa.replace(\"U\", \"\") + \" \" + putra.replace(\"U\", \"\") + \" \" + sukabumi.replace(\"U\", \"\")\n",
    "print(\"Setelah dihapus huruf U pada kalimat:\", hasilB)\n",
    "\n",
    "# Membalik urutan kata\n",
    "kata = kalimat.split()\n",
    "hasilC = \" \".join(kata[::-1])\n",
    "print(\"Kalimat setelah dibalikan:\", hasilC)\n",
    "\n",
    "# Mengambil huruf pertama dari setiap kata\n",
    "hasilD = \"\"\n",
    "for kata in kalimat.split():\n",
    "    hasilD += kata[0]\n",
    "print(\"Huruf pertama dari setiap kata:\", hasilD)\n",
    "\n",
    "\n",
    "#Mengambil 3 huruf terakhir dari UNIVERSITAS\n",
    "universitas = universitas[-3:]  # \"TAS\"\n",
    "\n",
    "#Mengambil huruf dari NUSA dan PUTRA untuk membentuk \"SAPU\"\n",
    "nusa = nusa[-2:]  #\"SA\" dari \"NUSA\"\n",
    "putra = putra[0:2]  #\"PU\" dari \"PUTRA\"\n",
    "sapu = nusa + putra\n",
    "\n",
    "#Mengambil 4 huruf terakhir dari SUKABUMI\n",
    "sukabumi = sukabumi[-4:]  #\"BUMI\"\n",
    "\n",
    "#Menggabungkan hasil\n",
    "hasilE = universitas + \" \" + sapu + \" \" + sukabumi\n",
    "\n",
    "print(\"Mengambil beberapa huruf:\", hasilE)"
   ]
  }
 ],
 "metadata": {
  "kernelspec": {
   "display_name": "Python 3 (ipykernel)",
   "language": "python",
   "name": "python3"
  },
  "language_info": {
   "codemirror_mode": {
    "name": "ipython",
    "version": 3
   },
   "file_extension": ".py",
   "mimetype": "text/x-python",
   "name": "python",
   "nbconvert_exporter": "python",
   "pygments_lexer": "ipython3",
   "version": "3.12.7"
  }
 },
 "nbformat": 4,
 "nbformat_minor": 5
}
