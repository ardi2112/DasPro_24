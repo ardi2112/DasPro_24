{
 "cells": [
  {
   "cell_type": "markdown",
   "id": "08415b0d",
   "metadata": {},
   "source": [
    "<h1>Operator Aritmatika<h1>"
   ]
  },
  {
   "cell_type": "code",
   "execution_count": 13,
   "id": "69909be3",
   "metadata": {},
   "outputs": [
    {
     "name": "stdout",
     "output_type": "stream",
     "text": [
      "Apel yang diterima teman budi adalah 3.0 apel\n",
      "Apel yang diterima teman budi adalah 5.0 apel\n"
     ]
    }
   ],
   "source": [
    "apelBudi = 12\n",
    "temanBudi = 4\n",
    "bagikanApel = apelBudi / temanBudi\n",
    "print(f\"Apel yang diterima teman budi adalah {bagikanApel} apel\")\n",
    "\n",
    "apelTambahan = apelBudi + 8\n",
    "bagikanApel = apelTambahan / temanBudi\n",
    "print(f\"Apel yang diterima teman budi adalah {bagikanApel} apel\")"
   ]
  },
  {
   "cell_type": "markdown",
   "id": "5909c8ff-3acc-454a-bcce-d2c596b6f1fe",
   "metadata": {},
   "source": [
    "<h1>Operator Perbadingan<h1>"
   ]
  },
  {
   "cell_type": "code",
   "execution_count": 19,
   "id": "25aec2dd",
   "metadata": {},
   "outputs": [
    {
     "name": "stdout",
     "output_type": "stream",
     "text": [
      "Tinggi Siti: 160 cm\n",
      "Tinggi Andi: 165 cm\n",
      "Apakah Siti lebih tinggi dari Andi? False\n",
      "Apakah Andi lebih tinggi dari Siti? True\n",
      "Andi lebih tinggi dari Siti\n"
     ]
    }
   ],
   "source": [
    "tinggiSiti = 160\n",
    "tinggiAndi = 165\n",
    "print(f\"Tinggi Siti: {tinggiSiti} cm\")\n",
    "print(f\"Tinggi Andi: {tinggiAndi} cm\")\n",
    "\n",
    "print(f\"Apakah Siti lebih tinggi dari Andi? {tinggiSiti > tinggiAndi}\")\n",
    "print(f\"Apakah Andi lebih tinggi dari Siti? {tinggiAndi > tinggiSiti}\")\n",
    "\n",
    "if tinggiAndi > tinggiSiti:\n",
    "    print(\"Andi lebih tinggi dari Siti\")\n",
    "else:\n",
    "    print(\"Siti lebih tinggi dari Andi\")"
   ]
  },
  {
   "cell_type": "markdown",
   "id": "bc970fd6-7a29-40dd-89e7-713d78f7a2ab",
   "metadata": {},
   "source": [
    "<h1>Operator Logika<h1>"
   ]
  },
  {
   "cell_type": "code",
   "execution_count": 30,
   "id": "9b7dc077",
   "metadata": {},
   "outputs": [
    {
     "name": "stdout",
     "output_type": "stream",
     "text": [
      "Apakah Cuacanya cerah? True\n",
      "Apakah PR sudah selesai? True\n",
      "Apakah Budi bisa bermain di luar? True (bisa)\n",
      "Apakah Cuacanya cerah? False\n",
      "Apakah PR sudah selesai? True\n",
      "Apakah Budi bisa bermain di luar? False (tidak bisa)\n",
      "Apakah Cuacanya cerah? True\n",
      "Apakah PR sudah selesai? False\n",
      "Apakah Budi bisa bermain di luar? False (tidak bisa)\n"
     ]
    }
   ],
   "source": [
    "cuacaCerah = True\n",
    "prSelesai = True\n",
    "\n",
    "print(f\"Apakah Cuacanya cerah? {cuacaCerah}\")\n",
    "print(f\"Apakah PR sudah selesai? {prSelesai}\")\n",
    "print(f\"Apakah Budi bisa bermain di luar? {cuacaCerah and prSelesai} (bisa)\")\n",
    "\n",
    "# Menggunakan negasi pada cuaca cerah\n",
    "print(f\"Apakah Cuacanya cerah? {not cuacaCerah}\")\n",
    "print(f\"Apakah PR sudah selesai? {prSelesai}\")\n",
    "print(f\"Apakah Budi bisa bermain di luar? {not cuacaCerah and prSelesai} (tidak bisa)\")\n",
    "\n",
    "# Menggunakan negasi pada pr selesai\n",
    "print(f\"Apakah Cuacanya cerah? {cuacaCerah}\")\n",
    "print(f\"Apakah PR sudah selesai? {not prSelesai}\")\n",
    "print(f\"Apakah Budi bisa bermain di luar? {cuacaCerah and not prSelesai} (tidak bisa)\")"
   ]
  },
  {
   "cell_type": "markdown",
   "id": "7ea15725",
   "metadata": {},
   "source": [
    "<h1>Operator Bitwise<h1>"
   ]
  },
  {
   "cell_type": "code",
   "execution_count": 33,
   "id": "a2b8e6dc",
   "metadata": {},
   "outputs": [
    {
     "name": "stdout",
     "output_type": "stream",
     "text": [
      "a dalam biner adalah: 0b110\n",
      "b dalam biner adalah: 0b11\n",
      "a AND b = 2, dalam biner: 0b10\n",
      "a OR b = 7, dalam biner: 0b111\n",
      "a XOR b = 5, dalam biner: 0b101\n"
     ]
    }
   ],
   "source": [
    "a = 6  # dalam biner: 0110\n",
    "b = 3  # dalam biner: 0011\n",
    "\n",
    "print(f\"a dalam biner adalah: {bin(a)}\")\n",
    "print(f\"b dalam biner adalah: {bin(b)}\")\n",
    "\n",
    "# Bitwise AND\n",
    "hasilAnd = a & b\n",
    "print(f\"a AND b = {hasil_and}, dalam biner: {bin(hasilAnd)}\")\n",
    "\n",
    "# Bitwise OR\n",
    "hasilOr = a | b\n",
    "print(f\"a OR b = {hasilOr}, dalam biner: {bin(hasilOr)}\")\n",
    "\n",
    "# Bitwise XOR\n",
    "hasilXor = a ^ b\n",
    "print(f\"a XOR b = {hasilXor}, dalam biner: {bin(hasilXor)}\")"
   ]
  },
  {
   "cell_type": "markdown",
   "id": "f1700068",
   "metadata": {},
   "source": [
    "<h1>Operator Penugasan<h1>"
   ]
  },
  {
   "cell_type": "code",
   "execution_count": 44,
   "id": "97d0f979",
   "metadata": {},
   "outputs": [
    {
     "name": "stdout",
     "output_type": "stream",
     "text": [
      "saldo pulsa: Rp.50000\n",
      "Saldo Pulsa setelah ditambahkan: Rp.70000\n",
      "saldo Pulsa setelah dibelanjakan: Rp.40000\n"
     ]
    }
   ],
   "source": [
    "saldoPulsa = 50000\n",
    "print(f\"saldo pulsa: Rp.{saldoPulsa}\")\n",
    "\n",
    "#Ditambahkan 20.000\n",
    "saldoPulsa += 20000\n",
    "print(f\"Saldo Pulsa setelah ditambahkan: Rp.{saldoPulsa}\")\n",
    "\n",
    "#Dibelikan paket internet\n",
    "saldoPulsa -= 30000\n",
    "print(f\"saldo Pulsa setelah dibelanjakan: Rp.{saldoPulsa}\")"
   ]
  },
  {
   "cell_type": "markdown",
   "id": "c7969511-5753-44bc-a4c9-66e80b336643",
   "metadata": {},
   "source": [
    "<h1>Operator Penugasan<h1>"
   ]
  },
  {
   "cell_type": "code",
   "execution_count": 49,
   "id": "06672b1a",
   "metadata": {},
   "outputs": [
    {
     "name": "stdout",
     "output_type": "stream",
     "text": [
      "Daftar peserta: ['Andi', 'Budi', 'Citra', 'Dewi']\n",
      "Apakah Eka terdaftar sebagai peserta? False\n",
      "Kalimat: Saya suka belajar Python\n",
      "Apakah kata 'Python' ada dalam kalimat? True\n"
     ]
    }
   ],
   "source": [
    "pesertaLomba = [\"Andi\", \"Budi\", \"Citra\", \"Dewi\"]\n",
    "namaDicari = \"Eka\"\n",
    "kalimat = \"Saya suka belajar Python\"\n",
    "kataDicari = \"Python\"\n",
    "\n",
    "print(f\"Daftar peserta: {pesertaLomba}\")\n",
    "print(f\"Apakah {namaDicari} terdaftar sebagai peserta? {namaDicari in pesertaLomba}\")\n",
    "\n",
    "print(f\"Kalimat: {kalimat}\")\n",
    "print(f\"Apakah kata '{kataDicari}' ada dalam kalimat? {kataDicari in kalimat}\")"
   ]
  },
  {
   "cell_type": "markdown",
   "id": "1a524f81-93ee-482a-9e3c-a25097f15e5c",
   "metadata": {},
   "source": [
    "<h1>Operator Identitas<h1>"
   ]
  },
  {
   "cell_type": "code",
   "execution_count": 64,
   "id": "55891071",
   "metadata": {},
   "outputs": [
    {
     "name": "stdout",
     "output_type": "stream",
     "text": [
      "Nilai x: 10\n",
      "Memory address x: 140723553643224\n",
      "Nilai y: 10\n",
      "Memory address y: 140723553643224\n",
      "Nilai z: 10\n",
      "Memory address z: 140723553643224\n",
      "\n",
      "Apakah x adalah y? True\n",
      "Apakah x adalah z? True\n"
     ]
    }
   ],
   "source": [
    "x = 10\n",
    "print(f\"Nilai x: {x}\")\n",
    "y = 10\n",
    "print(f\"Memory address x: {id(x)}\")\n",
    "print(f\"Nilai y: {y}\")\n",
    "print(f\"Memory address y: {id(y)}\")\n",
    "z = x\n",
    "print(f\"Nilai z: {z}\")\n",
    "print(f\"Memory address z: {id(z)}\")\n",
    "\n",
    "print(f\"\\nApakah x adalah y? {x is y}\")\n",
    "print(f\"Apakah x adalah z? {x is z}\")"
   ]
  },
  {
   "cell_type": "code",
   "execution_count": 63,
   "id": "8dcd6457-e932-4851-b433-43ea3beb67e1",
   "metadata": {},
   "outputs": [
    {
     "name": "stdout",
     "output_type": "stream",
     "text": [
      "list1: [1, 2, 3]\n",
      "Memory address list1: 2569176285120\n",
      "list2: [1, 2, 3]\n",
      "Memory address list2: 2569167313600\n",
      "list3: [1, 2, 3]\n",
      "Memory address list3: 2569176285120\n",
      "\n",
      "Apakah list1 adalah list2? False\n",
      "Apakah list1 adalah list3? True\n"
     ]
    }
   ],
   "source": [
    "list1 = [1, 2, 3]\n",
    "print(f\"list1: {list1}\")\n",
    "print(f\"Memory address list1: {id(list1)}\")\n",
    "list2 = [1, 2, 3]\n",
    "print(f\"list2: {list2}\")\n",
    "print(f\"Memory address list2: {id(list2)}\")\n",
    "list3 = list1\n",
    "print(f\"list3: {list3}\")\n",
    "print(f\"Memory address list3: {id(list3)}\")\n",
    "print(f\"\\nApakah list1 adalah list2? {list1 is list2}\")\n",
    "print(f\"Apakah list1 adalah list3? {list1 is list3}\")"
   ]
  },
  {
   "cell_type": "markdown",
   "id": "df0510f7-6545-48fc-ab64-59db0b5d3394",
   "metadata": {},
   "source": [
    "<h1>Operator Ternary<h1>"
   ]
  },
  {
   "cell_type": "code",
   "execution_count": 65,
   "id": "05a95aee-385d-44ad-8168-4ae0ea58a5c2",
   "metadata": {},
   "outputs": [
    {
     "name": "stdout",
     "output_type": "stream",
     "text": [
      "Angka = 150\n",
      "Lebih besar dari 100\n"
     ]
    }
   ],
   "source": [
    "angka = 150\n",
    "hasil = \"Lebih besar dari 100\" if angka > 100 else \"Tidak lebih besar dari 100\"\n",
    "print(f\"Angka = {angka}\")\n",
    "print(hasil)"
   ]
  },
  {
   "cell_type": "code",
   "execution_count": 67,
   "id": "397e7653-03ec-4e70-9801-e43fcaf73340",
   "metadata": {},
   "outputs": [
    {
     "name": "stdout",
     "output_type": "stream",
     "text": [
      "Nilai ujian: 75\n",
      "Status kelulusan: Lulus\n"
     ]
    }
   ],
   "source": [
    "nilaiUjian = 75\n",
    "status = \"Lulus\" if nilaiUjian > 70 else \"Tidak Lulus\"\n",
    "print(f\"Nilai ujian: {nilaiUjian}\")\n",
    "print(f\"Status kelulusan: {status}\")"
   ]
  }
 ],
 "metadata": {
  "kernelspec": {
   "display_name": "Python 3 (ipykernel)",
   "language": "python",
   "name": "python3"
  },
  "language_info": {
   "codemirror_mode": {
    "name": "ipython",
    "version": 3
   },
   "file_extension": ".py",
   "mimetype": "text/x-python",
   "name": "python",
   "nbconvert_exporter": "python",
   "pygments_lexer": "ipython3",
   "version": "3.12.7"
  }
 },
 "nbformat": 4,
 "nbformat_minor": 5
}
