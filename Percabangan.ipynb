{
 "cells": [
  {
   "cell_type": "markdown",
   "id": "47c01585-f805-4f7d-a500-66c850413b93",
   "metadata": {
    "id": "5854a90d-e435-44ae-9e31-3bc520e011b1"
   },
   "source": [
    "Buatlah program yang meminta pengguna memasukkan usia seseorang, lalu tentukan apakah dia <br>\n",
    "anak-anak (0-12 tahun), remaja (13-17 tahun), dewasa (18-59 tahun), atau lansia (60 tahun ke atas)."
   ]
  },
  {
   "cell_type": "code",
   "execution_count": 3,
   "id": "75a2fdcd-1ef1-45e4-9d79-c6a7cb708a18",
   "metadata": {
    "id": "75a2fdcd-1ef1-45e4-9d79-c6a7cb708a18"
   },
   "outputs": [
    {
     "name": "stdin",
     "output_type": "stream",
     "text": [
      "Masukkan usia:  21\n"
     ]
    },
    {
     "name": "stdout",
     "output_type": "stream",
     "text": [
      "Kategori: Dewasa\n"
     ]
    }
   ],
   "source": [
    "# add code here ...\n",
    "usia = int(input(\"Masukkan usia: \"))\n",
    "if usia <= 12:\n",
    "    print(\"Kategori: Anak-anak\")\n",
    "elif 13 <= usia <= 17:\n",
    "    print(\"Kategori: Remaja\")\n",
    "elif 18 <= usia <= 59:\n",
    "    print(\"Kategori: Dewasa\")\n",
    "else:\n",
    "    print(\"Kategori: Lansia\")"
   ]
  },
  {
   "cell_type": "markdown",
   "id": "68c95835-e4ad-4bd0-89ca-168200893cf7",
   "metadata": {
    "id": "68c95835-e4ad-4bd0-89ca-168200893cf7"
   },
   "source": [
    "Sebuah taman hiburan memiliki aturan harga tiket berdasarkan usia:\n",
    "<ol>\n",
    "<li>Anak-anak (0-12 tahun): Rp 10.000</li>\n",
    "<li>Remaja (13-17 tahun): Rp 15.000</li>\n",
    "<li>Dewasa (18-59 tahun): Rp 25.000</li>\n",
    "<li>Lansia (60 tahun ke atas): Gratis</li>\n",
    "</ol>\n",
    "Buat program untuk menentukan harga tiket berdasarkan usia yang dimasukkan pengguna dan total harga yang harus dibayar, jika terdapat 3 input seperti berikut ini"
   ]
  },
  {
   "cell_type": "code",
   "execution_count": 14,
   "id": "66ee699f-8355-48e0-939a-dcc73ba4425b",
   "metadata": {
    "id": "66ee699f-8355-48e0-939a-dcc73ba4425b"
   },
   "outputs": [
    {
     "name": "stdin",
     "output_type": "stream",
     "text": [
      "Isikan Umur Tiket 1: 21\n",
      "Isikan Umur Tiket 2:  19\n",
      "Isikan Umur Tiket 3:  17\n"
     ]
    },
    {
     "name": "stdout",
     "output_type": "stream",
     "text": [
      "Total harga tiket: Rp65000\n"
     ]
    }
   ],
   "source": [
    "tiket1 = int(input(\"Isikan Umur Tiket 1:\"))\n",
    "tiket2 = int(input(\"Isikan Umur Tiket 2: \"))\n",
    "tiket3 = int(input(\"Isikan Umur Tiket 3: \"))\n",
    "\n",
    "# add code here ...\n",
    "def hargaTiket(umur):\n",
    "    if umur <= 12:\n",
    "        return 10000\n",
    "    elif 13 <= umur <= 17:\n",
    "        return 15000\n",
    "    elif 18 <= umur <= 59:\n",
    "        return 25000\n",
    "    else:\n",
    "        return 0\n",
    "\n",
    "total = hargaTiket(tiket1) + hargaTiket(tiket2) + hargaTiket(tiket3)\n",
    "print(f\"Total harga tiket: Rp{total}\")"
   ]
  },
  {
   "cell_type": "markdown",
   "id": "82eac646-d930-42f5-a253-03f84c32f943",
   "metadata": {
    "id": "82eac646-d930-42f5-a253-03f84c32f943"
   },
   "source": [
    "Sebuah restoran memiliki diskon khusus:\n",
    "Anak-anak (0-12 tahun) diskon 50%\n",
    "Lansia (60 tahun ke atas) diskon 30%\n",
    "Selain itu, tidak ada diskon\n",
    "Buat program untuk menghitung harga yang harus dibayar setelah diskon diberikan."
   ]
  },
  {
   "cell_type": "code",
   "execution_count": 13,
   "id": "feb31fca-fce6-4e5f-a25f-8752e7a0033b",
   "metadata": {
    "id": "feb31fca-fce6-4e5f-a25f-8752e7a0033b"
   },
   "outputs": [
    {
     "name": "stdin",
     "output_type": "stream",
     "text": [
      "Masukkan usia:  11\n",
      "Total pembelian:  21000\n"
     ]
    },
    {
     "name": "stdout",
     "output_type": "stream",
     "text": [
      "Harga setelah diskon: Rp10500.0\n"
     ]
    }
   ],
   "source": [
    "# add code here ...\n",
    "umur = int(input(\"Masukkan usia: \"))\n",
    "harga = int(input(\"Total pembelian: \"))\n",
    "\n",
    "if umur <= 12:\n",
    "    hargaDiskon = harga * 0.5\n",
    "elif umur >= 60:\n",
    "    hargaDiskon = harga * 0.7\n",
    "else:\n",
    "    hargaDiskon = harga\n",
    "\n",
    "print(f\"Harga setelah diskon: Rp{hargaDiskon}\")"
   ]
  },
  {
   "cell_type": "markdown",
   "id": "aee8bab3-9bf1-4732-97e1-7abb32ce7184",
   "metadata": {
    "id": "aee8bab3-9bf1-4732-97e1-7abb32ce7184"
   },
   "source": [
    "Program beasiswa:\n",
    "<ol>\n",
    "<li>Jika nilai rapor ≥ 90 dan penghasilan orang tua < Rp 5.000.000 → Beasiswa Penuh</li>\n",
    "<li>Jika nilai rapor ≥ 85 dan penghasilan orang tua < Rp 8.000.000 → Beasiswa 50%</li>\n",
    "<li>Jika tidak memenuhi syarat di atas → Tidak mendapatkan beasiswa</li>\n",
    "</ol>"
   ]
  },
  {
   "cell_type": "code",
   "execution_count": 11,
   "id": "55a9ec4f-531b-4326-bca3-e0d19b4be47d",
   "metadata": {
    "id": "55a9ec4f-531b-4326-bca3-e0d19b4be47d"
   },
   "outputs": [
    {
     "name": "stdin",
     "output_type": "stream",
     "text": [
      "Masukkan nilai rapor:  92\n",
      "Masukkan penghasilan orang tua:  2100000\n"
     ]
    },
    {
     "name": "stdout",
     "output_type": "stream",
     "text": [
      "Status: Beasiswa Penuh\n"
     ]
    }
   ],
   "source": [
    "# add code here ...\n",
    "nilaiRapor = int(input(\"Masukkan nilai rapor: \"))\n",
    "penghasilan = int(input(\"Masukkan penghasilan orang tua: \"))\n",
    "\n",
    "if nilaiRapor >= 90 and penghasilan < 5000000:\n",
    "    print(\"Status: Beasiswa Penuh\")\n",
    "elif nilaiRapor >= 85 and penghasilan < 8000000:\n",
    "    print(\"Status: Beasiswa 50%\")\n",
    "else:\n",
    "    print(\"Status: Tidak mendapatkan beasiswa\")"
   ]
  },
  {
   "cell_type": "markdown",
   "id": "57ea9062-e1af-4650-8eab-a47a01a9d04f",
   "metadata": {
    "id": "57ea9062-e1af-4650-8eab-a47a01a9d04f"
   },
   "source": [
    "Suatu aplikasi streaming memiliki batasan usia:\n",
    "<ol>\n",
    "<li>Film Semua Umur: Bisa ditonton oleh siapa saja</li>\n",
    "<li>Film Remaja: Hanya untuk usia ≥ 13 tahun</li>\n",
    "<li>Film Dewasa: Hanya untuk usia ≥ 18 tahun</li>\n",
    "</ol>\n",
    "Buat program yang meminta input usia dan kategori film, lalu tentukan apakah seseorang boleh menonton film tersebut atau tidak."
   ]
  },
  {
   "cell_type": "code",
   "execution_count": 10,
   "id": "2c00f464-3390-4c94-9ec2-4b63c55b871b",
   "metadata": {
    "id": "2c00f464-3390-4c94-9ec2-4b63c55b871b"
   },
   "outputs": [
    {
     "name": "stdin",
     "output_type": "stream",
     "text": [
      "Masukkan usia:  12\n",
      "Masukkan kategori film (Semua Umur/Remaja/Dewasa):  remaja\n"
     ]
    },
    {
     "name": "stdout",
     "output_type": "stream",
     "text": [
      "Tidak boleh menonton film.\n"
     ]
    }
   ],
   "source": [
    "# add code here ...\n",
    "usia = int(input(\"Masukkan usia: \"))\n",
    "kategori_film = input(\"Masukkan kategori film (Semua Umur/Remaja/Dewasa): \")\n",
    "\n",
    "if kategori_film == \"Semua Umur\":\n",
    "    print(\"Boleh menonton film.\")\n",
    "elif kategori_film == \"Remaja\" and usia >= 13:\n",
    "    print(\"Boleh menonton film.\")\n",
    "elif kategori_film == \"Dewasa\" and usia >= 18:\n",
    "    print(\"Boleh menonton film.\")\n",
    "else:\n",
    "    print(\"Tidak boleh menonton film.\")"
   ]
  },
  {
   "cell_type": "markdown",
   "id": "7b87c04c-85f0-4dc1-a14a-f67d8b2c4e6a",
   "metadata": {
    "id": "7b87c04c-85f0-4dc1-a14a-f67d8b2c4e6a"
   },
   "source": [
    "Sebuah toko memberikan diskon berdasarkan jumlah pembelian:\n",
    "<ol>\n",
    "<li>Jika total belanja ≥ Rp 500.000 → Diskon 20%</li>\n",
    "<li>Jika total belanja ≥ Rp 250.000 → Diskon 10%</li>\n",
    "<li>Jika total belanja < Rp 250.000 → Tidak ada diskon</li>\n",
    "</ol>\n",
    "Hitung harga akhir setelah diskon."
   ]
  },
  {
   "cell_type": "code",
   "execution_count": 16,
   "id": "966923a0-c87b-4559-8fc1-3090d448ad4a",
   "metadata": {
    "id": "966923a0-c87b-4559-8fc1-3090d448ad4a"
   },
   "outputs": [
    {
     "name": "stdin",
     "output_type": "stream",
     "text": [
      "Masukkan total belanja:  720000\n"
     ]
    },
    {
     "name": "stdout",
     "output_type": "stream",
     "text": [
      "Harga akhir setelah diskon: Rp576000.0\n"
     ]
    }
   ],
   "source": [
    "# add code here\n",
    "total = int(input(\"Masukkan total belanja: \"))\n",
    "\n",
    "if total >= 500000:\n",
    "    total *= 0.8\n",
    "elif total >= 250000:\n",
    "    total *= 0.9\n",
    "\n",
    "print(f\"Harga akhir setelah diskon: Rp{total}\")"
   ]
  },
  {
   "cell_type": "markdown",
   "id": "88e22629-48cc-4917-86e7-2bf4df863182",
   "metadata": {
    "id": "88e22629-48cc-4917-86e7-2bf4df863182"
   },
   "source": [
    "Program parkir:\n",
    "<ol>\n",
    "<li>Mobil: Rp 5.000 per jam</li>\n",
    "<li>Motor: Rp 2.000 per jam</li>\n",
    "<li>Jika parkir lebih dari 5 jam, ada biaya tambahan Rp 10.000</li>\n",
    "</ol>\n",
    "Hitung total biaya parkir berdasarkan jenis kendaraan dan durasi parkir."
   ]
  },
  {
   "cell_type": "code",
   "execution_count": 29,
   "id": "b8f7b918-70a1-4a88-945f-406c4aafbec7",
   "metadata": {
    "id": "b8f7b918-70a1-4a88-945f-406c4aafbec7"
   },
   "outputs": [
    {
     "name": "stdin",
     "output_type": "stream",
     "text": [
      "Masukkan jenis kendaraan (Mobil/Motor): Motor\n",
      "Masukkan durasi parkir (jam):  7\n"
     ]
    },
    {
     "name": "stdout",
     "output_type": "stream",
     "text": [
      "Total biaya parkir: Rp24000\n"
     ]
    }
   ],
   "source": [
    "# add code here\n",
    "jenis_kendaraan = input(\"Masukkan jenis kendaraan (Mobil/Motor):\").lower()\n",
    "durasi = int(input(\"Masukkan durasi parkir (jam): \"))\n",
    "\n",
    "if jenis_kendaraan == \"mobil\":\n",
    "    biaya = 5000 * durasi\n",
    "elif jenis_kendaraan == \"motor\":\n",
    "    biaya = 2000 * durasi\n",
    "else:\n",
    "    print(\"Jenis kendaraan tidak valid.\")\n",
    "    biaya = 0\n",
    "\n",
    "if durasi > 5:\n",
    "    biaya += 10000\n",
    "\n",
    "print(f\"Total biaya parkir: Rp{biaya}\")"
   ]
  },
  {
   "cell_type": "markdown",
   "id": "2db1d34c-3f80-4f8c-aaf2-910c38c05414",
   "metadata": {
    "id": "2db1d34c-3f80-4f8c-aaf2-910c38c05414"
   },
   "source": [
    "Aplikasi transportasi online memiliki tarif sebagai berikut:\n",
    "<ol>\n",
    "<li>Jika jarak ≤ 5 km → Rp 5.000/km</li>\n",
    "<li>Jika jarak 6-10 km → Rp 4.000/km</li>\n",
    "<li>Jika jarak > 10 km → Rp 3.000/km</li>\n",
    "</ol>\n",
    "Hitung tarif perjalanan berdasarkan jarak yang dimasukkan pengguna.\n"
   ]
  },
  {
   "cell_type": "code",
   "execution_count": 30,
   "id": "5a5b719e-76f6-4f45-a8e4-07853113ce9e",
   "metadata": {
    "id": "5a5b719e-76f6-4f45-a8e4-07853113ce9e"
   },
   "outputs": [
    {
     "name": "stdin",
     "output_type": "stream",
     "text": [
      "Masukkan jarak (km):  11\n"
     ]
    },
    {
     "name": "stdout",
     "output_type": "stream",
     "text": [
      "Tarif perjalanan: Rp33000\n"
     ]
    }
   ],
   "source": [
    "# add code here\n",
    "jarak = int(input(\"Masukkan jarak (km): \"))\n",
    "\n",
    "if jarak <= 5:\n",
    "    tarif = 5000 * jarak\n",
    "elif 6 <= jarak <= 10:\n",
    "    tarif = 4000 * jarak\n",
    "else:\n",
    "    tarif = 3000 * jarak\n",
    "\n",
    "print(f\"Tarif perjalanan: Rp{tarif}\")"
   ]
  },
  {
   "cell_type": "markdown",
   "id": "d1cf7b61-e309-40ec-b1fd-4bc56550a10d",
   "metadata": {
    "id": "d1cf7b61-e309-40ec-b1fd-4bc56550a10d"
   },
   "source": [
    "Buatlah sebuah sistem penerimaan calon programmer yang akan menerima dua nilai ( nilai coding dan nilai interview). Untuk penilaian test coding skala penilaian yang diberikan dimulai dari 0 hingga 100 dengan sistem penilaian:\n",
    "<ol>\n",
    "<li>ketika seseorang mendapatkan nilai lebih dari 80 maka peserta tersebut akan mendapatkan hasil tes LOLOS</li>\n",
    "<li>ketika sesorang mendapatkan nilai diantara 60 hingga 80 maka peserta tersebut mendapatkan hasil tes DIPERTIMBANGKAN</li>\n",
    "<li>ketika seseorang mendapatkan nilai dibawah 60 maka peserta tersebut mendapatkan hasil tes GAGAL.</li>\n",
    "</ol>\n",
    "\n",
    "Sedangkan untuk penilaian interview adalah\n",
    "<ol>\n",
    "<li>ketika nilai yang diberikan kepada seseorang tersebut adalah \"A\" atau \"B\" maka peserta tersebut dianggap LOLOS interview</li>\n",
    "\n",
    "<li>selain kedua nilai tersebut maka peserta dianggap GAGAL tes interview.</li>\n",
    "</ol>\n",
    "\n",
    "Ketika calon programmer mendapatkan nilai coding LOLOS atau DIPERTIMBANGKAN dan juga LOLOS test interview maka tampilkanlah pesan \"Selamat Kamu Berhasil Menjadi Calon Programmer\". Jika tidak maka tampilkanlah pesan \"Maaf Kamu Belum Berhasil Menjadi Calon Programmer\""
   ]
  },
  {
   "cell_type": "code",
   "execution_count": 31,
   "id": "7aeb0f89-e957-4c0d-a29c-139fc269e1c0",
   "metadata": {
    "id": "7aeb0f89-e957-4c0d-a29c-139fc269e1c0"
   },
   "outputs": [
    {
     "name": "stdin",
     "output_type": "stream",
     "text": [
      "Masukkan nilai coding:  92\n",
      "Masukkan nilai interview (A/B):  A\n"
     ]
    },
    {
     "name": "stdout",
     "output_type": "stream",
     "text": [
      "Selamat Kamu Berhasil Menjadi Calon Programmer\n"
     ]
    }
   ],
   "source": [
    "# add code here\n",
    "nilaiCoding = int(input(\"Masukkan nilai coding: \"))\n",
    "nilaiInterview = input(\"Masukkan nilai interview (A/B): \")\n",
    "\n",
    "if (nilaiCoding > 80) or (60 <= nilaiCoding <= 80 and (nilaiInterview == \"A\" or nilaiInterview == \"B\")):\n",
    "    print(\"Selamat Kamu Berhasil Menjadi Calon Programmer\")\n",
    "else:\n",
    "    print(\"Maaf Kamu Belum Berhasil Menjadi Calon Programmer\")"
   ]
  },
  {
   "cell_type": "markdown",
   "id": "364647af-075b-4bc0-8c83-4c816415ff74",
   "metadata": {
    "id": "364647af-075b-4bc0-8c83-4c816415ff74"
   },
   "source": [
    "Sebuah klub sepak bola “PERSEGI FC” mempunyai aturan dalam memberikan nomor punggung bagi para pemainnya. Para pemain diperbolehkan mempunyai posisi lebih dari 1. Berikut adalah beberapa\n",
    "aturannya:\n",
    "<ol>\n",
    "<li>Untuk nomor punggung genap, digunakan untuk posisi “target attacker”</li>\n",
    "<li>Untuk nomor punggung genap antara 50 – 100, digunakan untuk pemain yang “berhak dipilih menjadi capten team”</li>\n",
    "<li>Untuk nomor punggung ganjil, digunakan untuk posisi “defender”</li>\n",
    "<li>Untuk nomor punggung ganjil lebih dari 90, digunakan untuk posisi “Playmaker”</li>\n",
    "<li>Untuk nomor punggung ganjil kelipatan dari 3 dan 5, digunakan untuk posisi “keeper”</li>\n",
    "</ol>\n",
    "Buatlah program untuk melakukan pengecekan sebuah nomor punggung dapat berfungsi sebagai posisi apa saja."
   ]
  },
  {
   "cell_type": "code",
   "execution_count": 33,
   "id": "2d1d5589-126b-44e3-9d9e-1bed865ff65c",
   "metadata": {
    "id": "2d1d5589-126b-44e3-9d9e-1bed865ff65c"
   },
   "outputs": [
    {
     "name": "stdin",
     "output_type": "stream",
     "text": [
      "Masukkan nomor punggung:  21\n"
     ]
    },
    {
     "name": "stdout",
     "output_type": "stream",
     "text": [
      "Posisi: Defender\n"
     ]
    }
   ],
   "source": [
    "# add code here\n",
    "nomorPunggung = int(input(\"Masukkan nomor punggung: \"))\n",
    "\n",
    "if nomorPunggung % 2 == 0:\n",
    "    print(\"Posisi: Target Attacker\")\n",
    "    if 50 <= nomorPunggung <= 100:\n",
    "        print(\"Posisi: Capten Team\")\n",
    "else:\n",
    "    print(\"Posisi: Defender\")\n",
    "    if nomorPunggung > 90:\n",
    "        print(\"Posisi: Playmaker\")\n",
    "    if nomorPunggung % 3 == 0 and nomorPunggung % 5 == 0:\n",
    "        print(\"Posisi: Keeper\")"
   ]
  }
 ],
 "metadata": {
  "colab": {
   "provenance": []
  },
  "kernelspec": {
   "display_name": "Python 3 (ipykernel)",
   "language": "python",
   "name": "python3"
  },
  "language_info": {
   "codemirror_mode": {
    "name": "ipython",
    "version": 3
   },
   "file_extension": ".py",
   "mimetype": "text/x-python",
   "name": "python",
   "nbconvert_exporter": "python",
   "pygments_lexer": "ipython3",
   "version": "3.12.7"
  }
 },
 "nbformat": 4,
 "nbformat_minor": 5
}
