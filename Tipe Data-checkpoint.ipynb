{
 "cells": [
  {
   "cell_type": "code",
   "execution_count": 10,
   "id": "b6a5d6bb",
   "metadata": {},
   "outputs": [
    {
     "name": "stdout",
     "output_type": "stream",
     "text": [
      "Nama : Dedi\n",
      "Umur : 20\n",
      "Alamat : Jl. Cibolang\n",
      "Nilai Pemrograman : 80.5\n",
      "Status Menikah : False\n"
     ]
    }
   ],
   "source": [
    "name =  \"Dedi\"\n",
    "age = 20\n",
    "address, province = \"Jl. Cibolang\", \"7413412\"\n",
    "scorePython = 80.5\n",
    "isMarried = False\n",
    "\n",
    "print(\"Nama :\", name)\n",
    "print(\"Umur :\", age)\n",
    "print(\"Alamat :\", address)\n",
    "print(\"Nilai Pemrograman :\", scorePython)\n",
    "print(\"Status Menikah :\", isMarried)"
   ]
  },
  {
   "cell_type": "code",
   "execution_count": 8,
   "id": "a2f5050f",
   "metadata": {},
   "outputs": [
    {
     "name": "stdout",
     "output_type": "stream",
     "text": [
      "Tipe Data <name> <class 'str'>\n",
      "Tipe Data <age> <class 'int'>\n",
      "Tipe Data <address> <class 'str'>\n",
      "Tipe Data <province> <class 'str'>\n",
      "Tipe Data <scorePython> <class 'float'>\n",
      "Tipe Data <isMarried> <class 'bool'>\n"
     ]
    }
   ],
   "source": [
    "print(\"Tipe Data <name>\", type(name))\n",
    "print(\"Tipe Data <age>\", type(age))\n",
    "print(\"Tipe Data <address>\", type(address))\n",
    "print(\"Tipe Data <province>\", type(province))\n",
    "print(\"Tipe Data <scorePython>\", type(scorePython))\n",
    "print(\"Tipe Data <isMarried>\", type(isMarried))"
   ]
  },
  {
   "cell_type": "code",
   "execution_count": 27,
   "id": "c9290de3",
   "metadata": {},
   "outputs": [
    {
     "name": "stdout",
     "output_type": "stream",
     "text": [
      "7413412-7413412.0-True\n",
      "20-20.0-True\n",
      "80.5-80-True\n"
     ]
    }
   ],
   "source": [
    "#Casting atau konversi Tipe Data\n",
    "#konversi dari String ke (int,float,bool)\n",
    "strToInt = int(province)\n",
    "strToFloat = float(province)\n",
    "strToBool = bool(province)\n",
    "print(strToInt,strToFloat,strToBool,sep=\"-\")\n",
    "\n",
    "#konversi dari int ke (str,float,bool)\n",
    "IntTostr = str(age)\n",
    "IntToFloat = float(age)\n",
    "IntToBool = bool(age)\n",
    "print(IntTostr,IntToFloat,IntToBool,sep=\"-\")\n",
    "\n",
    "#konversi dari float ke (str,int,bool)\n",
    "floatTostr = str(scorePython)\n",
    "floatToInt = int(scorePython)\n",
    "floatToBool = bool(scorePython)\n",
    "print(floatTostr,floatToInt,floatToBool,sep=\"-\")"
   ]
  },
  {
   "cell_type": "code",
   "execution_count": 30,
   "id": "f00d17be",
   "metadata": {},
   "outputs": [
    {
     "name": "stdout",
     "output_type": "stream",
     "text": [
      "B\n",
      "g\n"
     ]
    }
   ],
   "source": [
    "city = \"Bandung\"\n",
    "lenCity = len(city)\n",
    "print(city[0])\n",
    "print(city[lenCity-1])\n"
   ]
  },
  {
   "cell_type": "code",
   "execution_count": 42,
   "id": "4507b0a9",
   "metadata": {
    "scrolled": true
   },
   "outputs": [
    {
     "name": "stdout",
     "output_type": "stream",
     "text": [
      "Nilai Desimal:  200\n",
      "Nilai Desimal dari 0xff :  255\n",
      "Nilai Desimal dari 0b1010 :  10\n",
      "Nilai Desimal dari 0o377 :  255\n",
      "=============================\n",
      "Nilai Biner dari :  200 0b11001000\n",
      "Nilai oct dari :  200 0o310\n",
      "Nilai hexa dari :  200 0xc8\n"
     ]
    }
   ],
   "source": [
    "desimal = 200\n",
    "hexa = 0xff\n",
    "biner = 0b1010\n",
    "octal = 0o377\n",
    "print(\"Nilai Desimal: \", desimal)\n",
    "print(\"Nilai Desimal dari 0xff : \", hexa)\n",
    "print(\"Nilai Desimal dari 0b1010 : \", biner)\n",
    "print(\"Nilai Desimal dari 0o377 : \", octal)\n",
    "print(\"=============================\")\n",
    "print(\"Nilai Biner dari : \", desimal, bin(desimal))\n",
    "print(\"Nilai oct dari : \", desimal, oct(desimal))\n",
    "print(\"Nilai hexa dari : \", desimal, hex(desimal))"
   ]
  },
  {
   "cell_type": "code",
   "execution_count": 79,
   "id": "e9f0c94d",
   "metadata": {},
   "outputs": [
    {
     "name": "stdout",
     "output_type": "stream",
     "text": [
      "['Bogor', 'Bandung', 'Jakarta', 'Sukabumi']\n",
      "Bogor\n",
      "Sukabumi\n",
      "['Bogor', 'Bandung', 'Jakarta', 'Sukabumi']\n",
      "S\n",
      "('Andi', 'Budi', 'Caca')\n",
      "{'Name': 'Dedi', 'Address': {'Street': 'Cisaat', 'Number': 21, 'Province': 'West Java'}, 'Age': 32, 'isMarried': True}\n",
      "West Java\n",
      "{'Name': 'Dedi', 'Address': {'Street': 'Cisaat', 'Number': 21, 'Province': 'West Java'}, 'Age': 32, 'isMarried': True}\n",
      "West Java\n",
      "{'Name': 'Budi', 'Address': {'Street': 'Cisaat', 'Number': 22, 'Province': 'West Java'}, 'Age': 24, 'isMarried': True}\n",
      "Football\n",
      "23\n"
     ]
    }
   ],
   "source": [
    "#Tipe data collection\n",
    "\n",
    "cities = [\"Bogor\", \"Bandung\", \"Jakarta\", \"Sukabumi\"]\n",
    "print(cities)\n",
    "print(cities[0])\n",
    "print(cities[len(cities)-1])\n",
    "cities[1] = \"Bandung\"\n",
    "print(cities)\n",
    "print(cities[len(cities)-1][0])\n",
    "#Tuple\n",
    "names = (\"Andi\", \"Budi\", \"Caca\")\n",
    "print(names)\n",
    "#Dictionary\n",
    "studentData = {\n",
    "    \"Name\" : \"Dedi\",\n",
    "    \"Address\" : {\n",
    "        \"Street\" : \"Cisaat\",\n",
    "        \"Number\" : 21,\n",
    "        \"Province\" : \"West Java\",\n",
    "    },\n",
    "    \"Age\" : 32,\n",
    "    \"isMarried\" : True\n",
    "}\n",
    "print(studentData)\n",
    "print(studentData[\"Address\"] [\"Province\"]) #west java\n",
    "\n",
    "#list dictionary\n",
    "listStudent =[#membuat list sama seperti membuat object harus buat dulu\n",
    "    {\n",
    "        \"Name\" : \"Dedi\",\n",
    "        \"Address\" : {\n",
    "            \"Street\" : \"Cisaat\",\n",
    "            \"Number\": 21,\n",
    "            \"Province\" : \"West Java\"\n",
    "        },\n",
    "        \"Hobbies\" : [\"Basket\",\"Football\"],\n",
    "        \"Age\" : 23,\n",
    "        \"isMarried\" : True\n",
    "    },\n",
    "    {\n",
    "         \"Name\" : \"Budi\",\n",
    "        \"Address\" : {\n",
    "            \"Street\" : \"Cisaat\",\n",
    "            \"Number\": 22,\n",
    "            \"Province\" : \"West Java\"\n",
    "        },\n",
    "        \"Age\" : 24,\n",
    "        \"isMarried\" : True\n",
    "    }\n",
    "    \n",
    "]\n",
    "print(studentData)\n",
    "print(studentData[\"Address\"][\"Province\"]) #Print object di dulos oject\n",
    "print(listStudent [1])\n",
    "print(listStudent[0][\"Hobbies\"][1])\n",
    "print(listStudent[0][\"Age\"])"
   ]
  },
  {
   "cell_type": "code",
   "execution_count": 92,
   "id": "ecee7ea8",
   "metadata": {},
   "outputs": [
    {
     "name": "stdout",
     "output_type": "stream",
     "text": [
      "{'name': 'Dika', 'nilai': 80}\n",
      "{'buah': 'Apel', 'harga': 10000}\n",
      "{'mapel': 'informatika', 'sks': 4}\n",
      "{'Merk': 'Honda', 'tahun': 2005}\n",
      "{'names': 'Adi', 'age': 28, 'address': 'Bandung'}\n"
     ]
    }
   ],
   "source": [
    "list_tuple = [(\"name\", \"Dika\"), (\"nilai\", 80)]\n",
    "dictStudent = dict(list_tuple)\n",
    "print(dictStudent) #List akan di ubah secara otomatis menjadi object\n",
    "\n",
    "list_list = [[\"buah\", \"Apel\"], [\"harga\", 10000]]\n",
    "dictBuah = dict(list_list)\n",
    "print(dictBuah)\n",
    "\n",
    "tuple_tuple  = ((\"mapel\", \"informatika\"), (\"sks\", 4))\n",
    "dictMapel = dict(tuple_tuple)\n",
    "print(dictMapel)\n",
    "\n",
    "tuple_list = ([\"Merk\", \"Honda\"], [\"tahun\", 2005])\n",
    "dictMobil = dict(tuple_list)\n",
    "print(dictMobil)\n",
    "             \n",
    "keys = [\"names\", \"age\", \"address\"]\n",
    "values = [\"Adi\", 28, \"Bandung\"]\n",
    "dictData = dict(zip(keys, values)) #zip untuk menyatukan antara keys dan values\n",
    "print(dictData)"
   ]
  }
 ],
 "metadata": {
  "kernelspec": {
   "display_name": "Python 3 (ipykernel)",
   "language": "python",
   "name": "python3"
  },
  "language_info": {
   "codemirror_mode": {
    "name": "ipython",
    "version": 3
   },
   "file_extension": ".py",
   "mimetype": "text/x-python",
   "name": "python",
   "nbconvert_exporter": "python",
   "pygments_lexer": "ipython3",
   "version": "3.9.12"
  }
 },
 "nbformat": 4,
 "nbformat_minor": 5
}
