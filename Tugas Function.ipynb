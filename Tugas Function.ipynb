{
 "cells": [
  {
   "cell_type": "code",
   "execution_count": 2,
   "id": "acfea82a-a23a-41b9-aad1-6efba6cd0d94",
   "metadata": {},
   "outputs": [
    {
     "name": "stdout",
     "output_type": "stream",
     "text": [
      "UKA ATNIC UMAK\n",
      "PYTHON HARI BELAJAR SEDANG INI\n",
      "Ak|_| C1nt4 K4m|_|\n",
      "4ku Cinta Kamu\n"
     ]
    }
   ],
   "source": [
    "def balikkanKata(kalimat):\n",
    "    kata = kalimat.split()\n",
    "    balikKata = [kata[::-1] for kata in kata]\n",
    "    return ' '.join(balikKata)\n",
    "\n",
    "def urutkanKalimat(kalimat, urutan):\n",
    "    kata = kalimat.split()\n",
    "    urutanKata = [kata[i-1] for i in urutan]\n",
    "    return ' '.join(urutanKata)\n",
    "\n",
    "def ganti_vokal(kalimat, opsi):\n",
    "    lower_replace = {'a': '4', 'i': '1', 'u': '|_|', 'e': '3', 'o': '0'}\n",
    "    upper_replace = {'A': '4', 'I': '1', 'U': '|_|', 'E': '3', 'O': '0'}\n",
    "    result = []\n",
    "    for char in kalimat:\n",
    "        if opsi == 1:\n",
    "            result.append(lower_replace.get(char, char))\n",
    "        elif opsi == 2:\n",
    "            result.append(upper_replace.get(char, char))\n",
    "        else:\n",
    "            result.append(char)\n",
    "    return ''.join(result)\n",
    "\n",
    "print(balikkanKata(\"AKU CINTA KAMU\"))\n",
    "print(urutkanKalimat(\"HARI INI SEDANG BELAJAR PYTHON\", [5, 1, 4, 3, 2]))\n",
    "print(ganti_vokal(\"Aku Cinta Kamu\", 1))\n",
    "print(ganti_vokal(\"Aku Cinta Kamu\", 2))"
   ]
  }
 ],
 "metadata": {
  "kernelspec": {
   "display_name": "Python 3 (ipykernel)",
   "language": "python",
   "name": "python3"
  },
  "language_info": {
   "codemirror_mode": {
    "name": "ipython",
    "version": 3
   },
   "file_extension": ".py",
   "mimetype": "text/x-python",
   "name": "python",
   "nbconvert_exporter": "python",
   "pygments_lexer": "ipython3",
   "version": "3.12.7"
  }
 },
 "nbformat": 4,
 "nbformat_minor": 5
}
