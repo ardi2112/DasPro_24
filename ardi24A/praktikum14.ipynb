{
 "cells": [
  {
   "cell_type": "code",
   "execution_count": null,
   "id": "d884801d-9d68-4d3d-837d-5e2b85240a39",
   "metadata": {},
   "outputs": [
    {
     "name": "stdout",
     "output_type": "stream",
     "text": [
      "\n",
      "=== MENU DATA MAHASISWA ===\n",
      "1. Tambah Data Mahasiswa\n",
      "2. Tampilkan Semua Mahasiswa\n",
      "3. Keluar\n"
     ]
    },
    {
     "name": "stdin",
     "output_type": "stream",
     "text": [
      "Pilih menu:  2\n"
     ]
    },
    {
     "name": "stdout",
     "output_type": "stream",
     "text": [
      "\n",
      "=== DAFTAR MAHASISWA ===\n",
      "NIM          | NAMA                 | ALAMAT                         | KELAS\n",
      "---------------------------------------------------------------------------\n",
      "11111111111  | ardian               | jl.parakansalak                | TI24\n",
      "\n",
      "12345678910  | QWERTYU              | ALAMATGOSALI                   | TI23\n",
      "\n",
      "12345678910  | ASDFGHJK             | ALAMATBATUBATA                 | TI23\n",
      "\n",
      "Proses tampil selesai.\n",
      "\n",
      "=== MENU DATA MAHASISWA ===\n",
      "1. Tambah Data Mahasiswa\n",
      "2. Tampilkan Semua Mahasiswa\n",
      "3. Keluar\n"
     ]
    }
   ],
   "source": [
    "def menu():\n",
    "    while True:\n",
    "        print(\"\\n=== MENU DATA MAHASISWA ===\")\n",
    "        print(\"1. Tambah Data Mahasiswa\")\n",
    "        print(\"2. Tampilkan Semua Mahasiswa\")\n",
    "        print(\"3. Keluar\")\n",
    "        \n",
    "        pilihan = input(\"Pilih menu: \")\n",
    "\n",
    "        if pilihan == \"1\":\n",
    "            print(\"\\n=== TAMBAH DATA MAHASISWA ===\")\n",
    "            nim = input(\"Masukkan NIM (11 digit): \")\n",
    "            if not nim.isdigit() or len(nim) != 11:\n",
    "                print(\"Input tidak valid: NIM harus 11 digit angka!\")\n",
    "            else:\n",
    "                nama = input(\"Masukkan Nama (min 6 karakter): \")\n",
    "                if len(nama) < 6:\n",
    "                    print(\"Input tidak valid: Nama minimal 6 karakter!\")\n",
    "                else:\n",
    "                    alamat = input(\"Masukkan Alamat (min 10 karakter): \")\n",
    "                    if len(alamat) < 10:\n",
    "                        print(\"Input tidak valid: Alamat minimal 10 karakter!\")\n",
    "                    else:\n",
    "                        kelas = input(\"Masukkan Kelas (TI23 / TI24): \").upper()\n",
    "                        if kelas not in ['TI23', 'TI24']:\n",
    "                            print(\"Input tidak valid: Kelas hanya boleh TI23 atau TI24!\")\n",
    "                        else:\n",
    "                            try:\n",
    "                                with open(\"mahasiswa.txt\", \"a\") as file:\n",
    "                                    file.write(f\"{nim}|{nama}|{alamat}|{kelas}\\n\")\n",
    "                                print(\"Data mahasiswa berhasil disimpan.\")\n",
    "                            except Exception as e:\n",
    "                                print(f\">> Terjadi kesalahan saat menyimpan data: {e}\")\n",
    "            print(\"Proses tambah data selesai.\")\n",
    "\n",
    "        elif pilihan == \"2\":\n",
    "            print(\"\\n=== DAFTAR MAHASISWA ===\")\n",
    "            try:\n",
    "                with open(\"mahasiswa.txt\", \"r\") as file:\n",
    "                    data = file.readlines()\n",
    "\n",
    "                if not data:\n",
    "                    print(\"Belum ada data.\")\n",
    "                else:\n",
    "                    print(f\"{'NIM':<12} | {'NAMA':<20} | {'ALAMAT':<30} | {'KELAS'}\")\n",
    "                    print(\"-\" * 75)\n",
    "                    for baris in data:\n",
    "                        parts = baris.split(\"|\")\n",
    "                        if len(parts) != 4:\n",
    "                            print(\"Data rusak atau tidak lengkap, dilewati.\")\n",
    "                        else:\n",
    "                            nim, nama, alamat, kelas = parts\n",
    "                            print(f\"{nim:<12} | {nama:<20} | {alamat:<30} | {kelas}\")\n",
    "            except FileNotFoundError:\n",
    "                print(\"File mahasiswa.txt belum ada.\")\n",
    "            except Exception as e:\n",
    "                print(f\"Kesalahan saat membaca file: {e}\")\n",
    "            print(\"Proses tampil selesai.\")\n",
    "\n",
    "        elif pilihan == \"3\":\n",
    "            print(\"Keluar dari program. Terima kasih!\")\n",
    "            break\n",
    "        else:\n",
    "            print(\"Pilihan tidak valid. Coba lagi.\")\n",
    "\n",
    "# Jalankan program\n",
    "if __name__ == \"__main__\":\n",
    "    menu()"
   ]
  }
 ],
 "metadata": {
  "kernelspec": {
   "display_name": "Python 3 (ipykernel)",
   "language": "python",
   "name": "python3"
  },
  "language_info": {
   "codemirror_mode": {
    "name": "ipython",
    "version": 3
   },
   "file_extension": ".py",
   "mimetype": "text/x-python",
   "name": "python",
   "nbconvert_exporter": "python",
   "pygments_lexer": "ipython3",
   "version": "3.11.7"
  }
 },
 "nbformat": 4,
 "nbformat_minor": 5
}
