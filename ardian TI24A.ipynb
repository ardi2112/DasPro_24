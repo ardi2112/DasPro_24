{
 "cells": [
  {
   "cell_type": "markdown",
   "id": "45597b4b",
   "metadata": {},
   "source": [
    "<img src=\"https://upload.wikimedia.org/wikipedia/commons/thumb/0/0a/Python.svg/1200px-Python.svg.png\" width=\"300\">\n",
    "\n",
    "Tutorial Jupiter notebook<br>\n",
    "Tempat menuliskan kode disebut sebagai <b>cell</b><br>\n",
    "<ol>\n",
    "    <li>code - Y</li>\n",
    "    <li>Markdown - M</li>\n",
    "</ol>\n",
    "\n",
    "<hr>\n",
    "cara menjalankan cell<br>\n",
    "<table>\n",
    "    <tr>\n",
    "        <td>command</td>\n",
    "        <td>Keterangan</td>\n",
    "    </tr>\n",
    "    <tr>\n",
    "        <td>ctrl + enter </td>\n",
    "        <td>Running dan fokus di cell berikutnya </td>\n",
    "    </tr>\n",
    "    <tr>\n",
    "        <td>Shift + enter </td>\n",
    "        <td>Running dan fokus di cell berikutnya </td>\n",
    "    </tr>\n",
    "<table>"
   ]
  },
  {
   "cell_type": "markdown",
   "id": "61ca9bc3",
   "metadata": {},
   "source": [
    "Menambahkan cell ada 2 cara\n",
    "<ul>\n",
    "    <li>Tekan A -> Above</li>\n",
    "    <li>Tekan B -> Below</li>\n",
    "</ul>\n",
    "Cara membuat output di python adalah <br>\n",
    "'''print(teks yang akan di print'''"
   ]
  },
  {
   "cell_type": "code",
   "execution_count": 1,
   "id": "86c32435",
   "metadata": {},
   "outputs": [
    {
     "name": "stdout",
     "output_type": "stream",
     "text": [
      "Selamat belajar python\n",
      "Selamat belajar variabel\n"
     ]
    }
   ],
   "source": [
    "#Cetak tulisan selamat belajar python\n",
    "print (\"Selamat belajar python\")\n",
    "data = \"Selamat belajar variabel\"\n",
    "print (data)"
   ]
  },
  {
   "cell_type": "code",
   "execution_count": 2,
   "id": "3f7b5472",
   "metadata": {},
   "outputs": [
    {
     "name": "stdout",
     "output_type": "stream",
     "text": [
      "Selamat belajar variabel\n"
     ]
    },
    {
     "data": {
      "text/plain": [
       "15"
      ]
     },
     "execution_count": 2,
     "metadata": {},
     "output_type": "execute_result"
    }
   ],
   "source": [
    "print(data)\n",
    "data\n",
    "3 + 2 #tidak akan terbaca yang di jalankan \n",
    "num1 = 6\n",
    "num2 = 9\n",
    "num1 + num2"
   ]
  }
 ],
 "metadata": {
  "kernelspec": {
   "display_name": "Python 3 (ipykernel)",
   "language": "python",
   "name": "python3"
  },
  "language_info": {
   "codemirror_mode": {
    "name": "ipython",
    "version": 3
   },
   "file_extension": ".py",
   "mimetype": "text/x-python",
   "name": "python",
   "nbconvert_exporter": "python",
   "pygments_lexer": "ipython3",
   "version": "3.9.12"
  }
 },
 "nbformat": 4,
 "nbformat_minor": 5
}
